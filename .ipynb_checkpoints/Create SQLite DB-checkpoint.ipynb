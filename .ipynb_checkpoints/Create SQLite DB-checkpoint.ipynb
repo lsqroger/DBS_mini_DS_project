{
 "cells": [
  {
   "cell_type": "code",
   "execution_count": 2,
   "id": "cbe763d4",
   "metadata": {},
   "outputs": [],
   "source": [
    "import sqlite3\n",
    "import numpy as np\n",
    "import pandas as pd"
   ]
  },
  {
   "cell_type": "code",
   "execution_count": 3,
   "id": "199c10d2",
   "metadata": {},
   "outputs": [],
   "source": [
    "conn = sqlite3.connect('music.db')"
   ]
  },
  {
   "cell_type": "code",
   "execution_count": 4,
   "id": "7788b237",
   "metadata": {},
   "outputs": [],
   "source": [
    "train_labels = pd.read_csv(\"./data/labels.csv\")\n",
    "train_features = pd.read_csv(\"./data/features.csv\")"
   ]
  },
  {
   "cell_type": "code",
   "execution_count": 5,
   "id": "51472e48",
   "metadata": {},
   "outputs": [],
   "source": [
    "train_labels = train_labels.merge(train_features[['trackID','title']], on='trackID', how='left')\n",
    "train_labels.reset_index(drop=True, inplace=True)"
   ]
  },
  {
   "cell_type": "code",
   "execution_count": 6,
   "id": "168eaeb1",
   "metadata": {},
   "outputs": [],
   "source": [
    "# Write to sqlite database\n",
    "train_labels.to_sql(name='music', con=conn)"
   ]
  },
  {
   "cell_type": "code",
   "execution_count": null,
   "id": "726f3aad",
   "metadata": {},
   "outputs": [],
   "source": []
  },
  {
   "cell_type": "code",
   "execution_count": null,
   "id": "dc4ddef4",
   "metadata": {},
   "outputs": [],
   "source": []
  }
 ],
 "metadata": {
  "kernelspec": {
   "display_name": "Python 3",
   "language": "python",
   "name": "python3"
  },
  "language_info": {
   "codemirror_mode": {
    "name": "ipython",
    "version": 3
   },
   "file_extension": ".py",
   "mimetype": "text/x-python",
   "name": "python",
   "nbconvert_exporter": "python",
   "pygments_lexer": "ipython3",
   "version": "3.8.8"
  }
 },
 "nbformat": 4,
 "nbformat_minor": 5
}
